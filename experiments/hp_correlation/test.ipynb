{
 "cells": [
  {
   "cell_type": "code",
   "execution_count": 7,
   "metadata": {},
   "outputs": [],
   "source": [
    "import pickle\n",
    "import marshal\n",
    "import numpy as np\n",
    "import matplotlib.pyplot as plt\n",
    "from save_measures import Run\n",
    "from config import ExperimentType, params\n",
    "from correlations import initialization_correlation, conditional_correlation, hp_correlation\n",
    "from plotting import correlation_envelope"
   ]
  },
  {
   "cell_type": "code",
   "execution_count": 31,
   "metadata": {},
   "outputs": [],
   "source": [
    "def differ_in_only_key(config_pair, hp):\n",
    "    i = params.index(hp)\n",
    "    \n",
    "    fixed1 = tuple(config_pair[0][0][j] for j in range(len(params)) if j != i)\n",
    "    fixed2 = tuple(config_pair[1][0][j] for j in range(len(params)) if j != i)\n",
    "    \n",
    "    truth = fixed1 == fixed2 and config_pair[0][0][i] != config_pair[1][0][i] \\\n",
    "        and config_pair[0][1] != 3 and config_pair[1][1] != 3 \n",
    "    \n",
    "    if truth:\n",
    "        return fixed1\n",
    "    else:\n",
    "        return None"
   ]
  },
  {
   "cell_type": "code",
   "execution_count": 4,
   "metadata": {},
   "outputs": [],
   "source": [
    "with open(\"./data.nosync/pre-comp-correlations-future/margin-best.pickle\", \"rb\") as f:\n",
    "    pair_corrs = pickle.load(f)"
   ]
  },
  {
   "cell_type": "code",
   "execution_count": 19,
   "metadata": {},
   "outputs": [],
   "source": [
    "corr_dict = pair_corrs[\"weighted\"]\n",
    "hp = \"lr\""
   ]
  },
  {
   "cell_type": "code",
   "execution_count": 20,
   "metadata": {},
   "outputs": [
    {
     "data": {
      "text/plain": [
       "16290"
      ]
     },
     "execution_count": 20,
     "metadata": {},
     "output_type": "execute_result"
    }
   ],
   "source": [
    "len(corr_dict)"
   ]
  },
  {
   "cell_type": "code",
   "execution_count": 80,
   "metadata": {},
   "outputs": [],
   "source": [
    "envs = {}\n",
    "\n",
    "for hp_pair, steps_dict in corr_dict.items():\n",
    "    key = differ_in_only_key(hp_pair, hp)\n",
    "    \n",
    "    if key is None:\n",
    "        continue\n",
    "    \n",
    "    key_corrs = envs.get(key, {})\n",
    "    \n",
    "    for step in [0.001, 0.01, 0.1, 1, 5, 10, 15, 20]:\n",
    "        if step not in steps_dict:\n",
    "            continue\n",
    "        \n",
    "        measures_dict, _, total_weight = steps_dict[step]\n",
    "        \n",
    "        step_corrs = key_corrs.get(step, {})\n",
    "        \n",
    "        if total_weight > 1:\n",
    "            for measure, corr in measures_dict.items():\n",
    "                measure_corrs = step_corrs.get(measure, [])\n",
    "                measure_corrs.append(corr)\n",
    "                step_corrs[measure] = measure_corrs\n",
    "                \n",
    "        key_corrs[step] = step_corrs\n",
    "        \n",
    "    envs[key] = key_corrs\n",
    "\n",
    "env_corrs = {}\n",
    "\n",
    "for key, key_corrs in envs.items():\n",
    "    env_corrs[key] = {}\n",
    "    \n",
    "    for step, step_corrs in key_corrs.items():\n",
    "        env_corrs[key][step] = {}\n",
    "        \n",
    "        for measure, measure_corrs in step_corrs.items():\n",
    "            env_corrs[key][step][measure] = np.mean(measure_corrs)"
   ]
  },
  {
   "cell_type": "code",
   "execution_count": 81,
   "metadata": {},
   "outputs": [],
   "source": [
    "e = {k: v for k, v in env_corrs.items() if k[3] == 0}"
   ]
  },
  {
   "cell_type": "code",
   "execution_count": 82,
   "metadata": {},
   "outputs": [],
   "source": [
    "collect_dists = {}\n",
    "\n",
    "for key, key_corrs in e.items():\n",
    "    for step, step_corrs in key_corrs.items():\n",
    "        collect_dists[step] = collect_dists.get(step, {})\n",
    "        \n",
    "        for measure, corr in step_corrs.items():\n",
    "            collect_dists[step][measure] = collect_dists[step].get(measure, [])\n",
    "            collect_dists[step][measure].append(corr)"
   ]
  },
  {
   "cell_type": "code",
   "execution_count": 103,
   "metadata": {},
   "outputs": [],
   "source": [
    "def box_plot_batches(ax, steps, corrs_list):\n",
    "    bp = ax.boxplot(corrs_list, positions=steps, widths=5)\n",
    "    ax.plot(steps, [np.median(c) for c in corrs_list])\n",
    "    ax.set_ylim([-1, 1])\n",
    "    ax.set_xlim([-5, 105])\n",
    "    ax.set_xlabel(\"batches\")\n",
    "    ax.set_ylabel(\"correlation\")\n",
    "    \n",
    "def box_plot_epochs(ax, steps, corrs_list):\n",
    "    ax.boxplot(corrs_list, positions=steps, widths=1)\n",
    "    ax.plot(steps, [np.median(c) for c in corrs_list])\n",
    "    ax.set_ylim([-1, 1])\n",
    "    ax.set_xlim(0, 21)\n",
    "    ax.set_xlabel(\"epochs\")"
   ]
  },
  {
   "cell_type": "code",
   "execution_count": 104,
   "metadata": {},
   "outputs": [
    {
     "data": {
      "image/png": "[encoded data removed]",
      "text/plain": [
       "<Figure size 864x288 with 2 Axes>"
      ]
     },
     "metadata": {
      "needs_background": "light"
     },
     "output_type": "display_data"
    }
   ],
   "source": [
    "fig, (ax1, ax2) = plt.subplots(1, 2, figsize=(12, 4))\n",
    "fig.suptitle(\"margin\")\n",
    "\n",
    "batches = [0.001, 0.01, 0.1]\n",
    "box_plot_batches(ax1, [int(i * 1000) for i in batches], [collect_dists[i][\"margin\"] for i in batches])\n",
    "\n",
    "epochs = [1, 5, 10, 15, 20]\n",
    "box_plot_epochs(ax2, epochs, [collect_dists[i][\"margin\"] for i in epochs])"
   ]
  },
  {
   "cell_type": "code",
   "execution_count": null,
   "metadata": {},
   "outputs": [],
   "source": []
  }
 ],
 "metadata": {
  "kernelspec": {
   "display_name": "Python 3 (ipykernel)",
   "language": "python",
   "name": "python3"
  },
  "language_info": {
   "codemirror_mode": {
    "name": "ipython",
    "version": 3
   },
   "file_extension": ".py",
   "mimetype": "text/x-python",
   "name": "python",
   "nbconvert_exporter": "python",
   "pygments_lexer": "ipython3",
   "version": "3.8.8"
  }
 },
 "nbformat": 4,
 "nbformat_minor": 1
}
