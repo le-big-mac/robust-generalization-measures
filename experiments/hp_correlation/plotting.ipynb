{
 "cells": [
  {
   "cell_type": "code",
   "execution_count": 3,
   "metadata": {},
   "outputs": [],
   "source": [
    "import pickle\n",
    "import numpy as np\n",
    "import matplotlib.pyplot as plt\n",
    "\n",
    "from save_measures import Run\n",
    "from precomputation import RunPair\n",
    "from config import ExperimentType\n",
    "from correlations import initialization_correlation, conditional_correlation, hp_correlation\n",
    "from plotting import correlation_envelope"
   ]
  },
  {
   "cell_type": "code",
   "execution_count": 4,
   "metadata": {},
   "outputs": [],
   "source": [
    "def new_correlation(pair_corrs):\n",
    "    def condition(hp_pair):\n",
    "        return hp_pair[0][1] == ExperimentType.NO_DROPOUT and hp_pair[1][1] == ExperimentType.NO_DROPOUT\n",
    "\n",
    "    return conditional_correlation(pair_corrs, condition)"
   ]
  },
  {
   "cell_type": "code",
   "execution_count": 7,
   "metadata": {},
   "outputs": [
    {
     "name": "stdout",
     "output_type": "stream",
     "text": [
      "pacbayes_flatness: -0.376782106878178\n",
      "pacbayes_init: -0.4418631341236815\n",
      "pacbayes_init_full: -0.1817513195780521\n",
      "pacbayes_init_main: -0.4418631341236815\n",
      "pacbayes_orig: -0.4526968522565394\n",
      "pacbayes_orig_full: -0.24150052131896166\n",
      "pacbayes_orig_main: -0.4526968522565394\n",
      "pacbayes_mag_flatness: -0.38152173824040525\n",
      "pacbayes_mag_init: 0.08998269890628292\n",
      "pacbayes_mag_init_full: 0.12000789194995377\n",
      "pacbayes_mag_init_main: 0.08998269890628292\n",
      "pacbayes_mag_orig: 0.06306323379955477\n",
      "pacbayes_mag_orig_full: 0.11096206041881174\n",
      "pacbayes_mag_orig_main: 0.06306323379955477\n"
     ]
    }
   ],
   "source": [
    "# for a in [\"margin\", \"exponential_margin\", \"normalized_exponential_margin\", \"shifted_margin\", \n",
    "#           \"pac_bayes\", \"vc_dim\", \"norms\", \"optimisation\"]:\n",
    "    \n",
    "with open(\"./data.nosync/pre-comp-correlations/pac_bayes-best.pickle\", \"rb\") as f:\n",
    "    pair_corrs = pickle.load(f)\n",
    "\n",
    "overall_corrs = new_correlation(pair_corrs)\n",
    "\n",
    "for x in overall_corrs[\"weighted\"][10]:\n",
    "    corr = np.mean([a[0] for a in overall_corrs[\"weighted\"][10][x]])\n",
    "    print(\"{}: {}\".format(x, corr))"
   ]
  },
  {
   "cell_type": "code",
   "execution_count": 43,
   "metadata": {},
   "outputs": [
    {
     "name": "stdout",
     "output_type": "stream",
     "text": [
      "log_prod_of_spec_over_margin_fft: 0.23801403346589886\n",
      "log_spec_init_main_fft: 0.22891858196865703\n",
      "log_spec_orig_main_fft: 0.2287747240206565\n",
      "log_sum_of_spec_over_margin_fft: 0.26309362986270124\n",
      "path_norm_over_margin: -0.21029887045422826\n",
      "spec_init: 0.22706811081399716\n",
      "spec_orig: 0.22718684553774887\n",
      "log_prod_of_spec_over_exponential_margin_fft: 0.2540135600624056\n",
      "log_spec_init_main_exponential_margin_fft: 0.24828489789023364\n",
      "log_spec_orig_main_exponential_margin_fft: 0.24882936865964447\n",
      "log_sum_of_spec_over_exponential_margin_fft: 0.273269517498165\n",
      "spec_init_exponential_margin: 0.24613914732601758\n",
      "spec_orig_exponential_margin: 0.24742652012057356\n",
      "log_prod_of_spec_over_normalized_exponential_margin_fft: 0.2540135600624056\n",
      "log_spec_init_main_normalized_exponential_margin_fft: 0.24828489789023364\n",
      "log_spec_orig_main_normalized_exponential_margin_fft: 0.24882936865964447\n",
      "log_sum_of_spec_over_normalized_exponential_margin_fft: 0.26534293856552926\n",
      "spec_init_normalized_exponential_margin: 0.24613914732601758\n",
      "spec_orig_normalized_exponential_margin: 0.24742652012057356\n",
      "log_prod_of_spec_over_shifted_margin_fft: 0.25265247845688166\n",
      "log_spec_init_main_shifted_margin_fft: 0.24577126812630753\n",
      "log_spec_orig_main_shifted_margin_fft: 0.24703579241895832\n",
      "log_sum_of_spec_over_shifted_margin_fft: 0.26928478365472186\n",
      "spec_init_shifted_margin: 0.24428291296980933\n",
      "spec_orig_shifted_margin: 0.24611529744154878\n",
      "pacbayes_mag_init: 0.27804521065595\n",
      "pacbayes_mag_init_full: 0.27550403999859335\n",
      "pacbayes_mag_init_main: 0.27804521065595\n",
      "pacbayes_mag_orig: 0.22734241888591983\n",
      "pacbayes_mag_orig_full: 0.2298301341238687\n",
      "pacbayes_mag_orig_main: 0.22734241888591983\n",
      "path_norm: -0.31656298177520875\n",
      "log_sum_of_spec_fft: 0.27136064147878713\n",
      "log_prod_of_spec_fft: 0.25430582821892916\n",
      "dist_spec_init_fft: 0.4147307375395066\n",
      "epoch: -0.25073913388493524\n"
     ]
    }
   ],
   "source": [
    "for a in [\"margin\", \"exponential_margin\", \"normalized_exponential_margin\", \"shifted_margin\", \n",
    "          \"pac_bayes\", \"vc_dim\", \"norms\", \"optimisation\"]:\n",
    "    \n",
    "    with open(\"./data.nosync/pre-comp-correlations/{}-best.pickle\".format(a), \"rb\") as f:\n",
    "        pair_corrs = pickle.load(f)\n",
    "        \n",
    "    overall_corrs = new_correlation(pair_corrs)\n",
    "    \n",
    "    for x in overall_corrs[\"weighted\"][0.01]:\n",
    "        corr = np.mean([a[0] for a in overall_corrs[\"weighted\"][0.01][x]])\n",
    "        if corr > 0.2 or corr < -0.2:\n",
    "            print(\"{}: {}\".format(x, corr))"
   ]
  },
  {
   "cell_type": "code",
   "execution_count": 42,
   "metadata": {},
   "outputs": [
    {
     "name": "stdout",
     "output_type": "stream",
     "text": [
      "margin: -0.4231043988829352\n",
      "inverse_margin: -0.4231043988829352\n",
      "fro_over_spec_over_margin_fft: 0.4845372502214156\n",
      "path_norm_over_margin: -0.5438275431793183\n",
      "exponential_margin: 0.4231043988829352\n",
      "path_norm_over_exponential_margin: 0.4881370313020978\n",
      "normalized_exponential_margin: 0.4231043988829352\n",
      "path_norm_over_normalized_exponential_margin: 0.4881370313020978\n",
      "shifted_margin: 0.4231043988829352\n",
      "path_norm_over_shifted_margin: 0.49161867442852925\n",
      "pacbayes_init: -0.4053838608154554\n",
      "pacbayes_init_main: -0.4053838608154554\n",
      "pacbayes_mag_flatness: -0.4515336671866526\n",
      "path_norm: -0.5091272860177997\n",
      "l2_dist: -0.45135574217861707\n",
      "fro_dist: -0.45135574217861707\n"
     ]
    }
   ],
   "source": [
    "for a in [\"margin\", \"exponential_margin\", \"normalized_exponential_margin\", \"shifted_margin\", \n",
    "          \"pac_bayes\", \"vc_dim\", \"norms\", \"optimisation\"]:\n",
    "    \n",
    "    with open(\"./data.nosync/pre-comp-correlations/{}-best.pickle\".format(a), \"rb\") as f:\n",
    "        pair_corrs = pickle.load(f)\n",
    "        \n",
    "    overall_corrs = new_correlation(pair_corrs)\n",
    "    \n",
    "    for x in overall_corrs[\"weighted\"][0.1]:\n",
    "        corr = np.mean([a[0] for a in overall_corrs[\"weighted\"][0.1][x]])\n",
    "        if corr > 0.4 or corr < -0.4:\n",
    "            print(\"{}: {}\".format(x, corr))"
   ]
  },
  {
   "cell_type": "code",
   "execution_count": 41,
   "metadata": {},
   "outputs": [
    {
     "name": "stdout",
     "output_type": "stream",
     "text": [
      "margin: -0.5142385144380694\n",
      "inverse_margin: -0.5142385144380694\n",
      "fro_over_spec_over_margin_fft: 0.5078657071403239\n",
      "path_norm_over_margin: -0.6491114201565285\n",
      "exponential_margin: 0.5142385144380694\n",
      "path_norm_over_exponential_margin: 0.5922120235253293\n",
      "normalized_exponential_margin: 0.5142385144380694\n",
      "path_norm_over_normalized_exponential_margin: 0.5922120235253293\n",
      "shifted_margin: 0.5142385144380694\n",
      "path_norm_over_shifted_margin: 0.5461703486892373\n",
      "path_norm: -0.6236360893475605\n",
      "l2_dist: -0.5450881430537146\n",
      "fro_dist: -0.5450881430537146\n",
      "accuracy/test: 0.5766009368803517\n",
      "accuracy/train: 0.5178614198330163\n",
      "cross_entropy_epoch_end/train: -0.6730909287336697\n",
      "cross_entropy_epoch_end/test: -0.6955472926845497\n",
      "sotl: -0.7343323050973952\n",
      "sotl-ema: -0.7343323050973952\n",
      "sotl-1: -0.7343323050973952\n",
      "sotl-2: -0.7343323050973952\n",
      "sotl-3: -0.7343323050973952\n",
      "sotl-5: -0.7343323050973952\n"
     ]
    }
   ],
   "source": [
    "for a in [\"margin\", \"exponential_margin\", \"normalized_exponential_margin\", \"shifted_margin\", \n",
    "          \"pac_bayes\", \"vc_dim\", \"norms\", \"optimisation\"]:\n",
    "    \n",
    "    with open(\"./data.nosync/pre-comp-correlations/{}-best.pickle\".format(a), \"rb\") as f:\n",
    "        pair_corrs = pickle.load(f)\n",
    "        \n",
    "    overall_corrs = new_correlation(pair_corrs)\n",
    "    \n",
    "    for x in overall_corrs[\"weighted\"][1]:\n",
    "        corr = np.mean([a[0] for a in overall_corrs[\"weighted\"][1][x]])\n",
    "        if corr > 0.5 or corr < -0.5:\n",
    "            print(\"{}: {}\".format(x, corr))"
   ]
  },
  {
   "cell_type": "code",
   "execution_count": 44,
   "metadata": {},
   "outputs": [
    {
     "name": "stdout",
     "output_type": "stream",
     "text": [
      "path_norm_over_margin: -0.5773965207593291\n",
      "path_norm_over_exponential_margin: 0.7233351706572383\n",
      "path_norm_over_normalized_exponential_margin: 0.7233351706572383\n",
      "path_norm_over_shifted_margin: 0.7165864611930595\n",
      "path_norm: -0.689104825713056\n",
      "l2_dist: -0.597586597208694\n",
      "fro_dist: -0.597586597208694\n",
      "accuracy/test: 0.7656084840810315\n",
      "cross_entropy_epoch_end/train: -0.5977807291539873\n",
      "cross_entropy_epoch_end/test: -0.7959960734797523\n",
      "sotl: -0.7111405527809176\n",
      "sotl-ema: -0.7037726500670256\n",
      "sotl-1: -0.6319845032881029\n",
      "sotl-2: -0.7111405527809176\n",
      "sotl-3: -0.7111405527809176\n",
      "sotl-5: -0.7111405527809176\n"
     ]
    }
   ],
   "source": [
    "for a in [\"margin\", \"exponential_margin\", \"normalized_exponential_margin\", \"shifted_margin\", \n",
    "          \"pac_bayes\", \"vc_dim\", \"norms\", \"optimisation\"]:\n",
    "    \n",
    "    with open(\"./data.nosync/pre-comp-correlations/{}-best.pickle\".format(a), \"rb\") as f:\n",
    "        pair_corrs = pickle.load(f)\n",
    "        \n",
    "    overall_corrs = new_correlation(pair_corrs)\n",
    "    \n",
    "    for x in overall_corrs[\"weighted\"][5]:\n",
    "        corr = np.mean([a[0] for a in overall_corrs[\"weighted\"][5][x]])\n",
    "        if corr > 0.5 or corr < -0.5:\n",
    "            print(\"{}: {}\".format(x, corr))"
   ]
  },
  {
   "cell_type": "code",
   "execution_count": 45,
   "metadata": {},
   "outputs": [
    {
     "name": "stdout",
     "output_type": "stream",
     "text": [
      "path_norm_over_margin: -0.6001678114032326\n",
      "fro_over_spec_over_exponential_margin_fft: -0.5388246343418008\n",
      "log_sum_of_fro_over_exponential_margin: -0.6208525622458316\n",
      "fro_over_spec_over_normalized_exponential_margin_fft: -0.5388246343418008\n",
      "log_sum_of_fro_over_normalized_exponential_margin: -0.5217541134997687\n",
      "fro_over_spec_over_shifted_margin_fft: -0.5370420046330171\n",
      "log_sum_of_fro_over_shifted_margin: -0.5390125563035332\n",
      "path_norm: -0.6698453969037773\n",
      "accuracy/test: 0.847550562255253\n",
      "cross_entropy_epoch_end/test: -0.734899999570688\n",
      "sotl: -0.6235499890834532\n",
      "sotl-ema: -0.5884200199965639\n",
      "sotl-2: -0.6235499890834532\n",
      "sotl-3: -0.6235499890834532\n",
      "sotl-5: -0.6235499890834532\n"
     ]
    }
   ],
   "source": [
    "for a in [\"margin\", \"exponential_margin\", \"normalized_exponential_margin\", \"shifted_margin\", \n",
    "          \"pac_bayes\", \"vc_dim\", \"norms\", \"optimisation\"]:\n",
    "    \n",
    "    with open(\"./data.nosync/pre-comp-correlations/{}-best.pickle\".format(a), \"rb\") as f:\n",
    "        pair_corrs = pickle.load(f)\n",
    "        \n",
    "    overall_corrs = new_correlation(pair_corrs)\n",
    "    \n",
    "    for x in overall_corrs[\"weighted\"][10]:\n",
    "        corr = np.mean([a[0] for a in overall_corrs[\"weighted\"][10][x]])\n",
    "        if corr > 0.5 or corr < -0.5:\n",
    "            print(\"{}: {}\".format(x, corr))"
   ]
  },
  {
   "cell_type": "code",
   "execution_count": 46,
   "metadata": {},
   "outputs": [],
   "source": [
    "def new_correlation2(pair_corrs):\n",
    "    def condition(hp_pair):\n",
    "        return hp_pair[0][1] != ExperimentType.BATCH_NORM and hp_pair[1][1] != ExperimentType.BATCH_NORM\n",
    "\n",
    "    return conditional_correlation(pair_corrs, condition)"
   ]
  },
  {
   "cell_type": "code",
   "execution_count": 55,
   "metadata": {},
   "outputs": [
    {
     "name": "stdout",
     "output_type": "stream",
     "text": [
      "log_spec_init_main_fft: 0.25295527671566354\n",
      "spec_init: 0.25213965800848964\n",
      "log_spec_init_main_exponential_margin_fft: 0.25106140218193157\n",
      "log_spec_init_main_normalized_exponential_margin_fft: 0.25106140218193157\n",
      "log_spec_init_main_shifted_margin_fft: 0.2532729930121539\n",
      "spec_init_shifted_margin: 0.251344851962594\n",
      "pacbayes_init: 0.29683316803485177\n",
      "pacbayes_init_full: 0.2981208814544369\n",
      "pacbayes_init_main: 0.29683316803485177\n",
      "pacbayes_mag_init: 0.27263068440582683\n",
      "pacbayes_mag_init_full: 0.27263068440582683\n",
      "pacbayes_mag_init_main: 0.27263068440582683\n",
      "l2_dist: 0.29681415078861734\n",
      "fro_dist: 0.29681415078861734\n",
      "dist_spec_init_fft: 0.3426751683199198\n"
     ]
    }
   ],
   "source": [
    "for a in [\"margin\", \"exponential_margin\", \"normalized_exponential_margin\", \"shifted_margin\", \n",
    "          \"pac_bayes\", \"vc_dim\", \"norms\", \"optimisation\"]:\n",
    "    \n",
    "    with open(\"./data.nosync/pre-comp-correlations/{}-best.pickle\".format(a), \"rb\") as f:\n",
    "        pair_corrs = pickle.load(f)\n",
    "        \n",
    "    overall_corrs = new_correlation2(pair_corrs)\n",
    "    \n",
    "    for x in overall_corrs[\"weighted\"][0.001]:\n",
    "        corr = np.mean([a[0] for a in overall_corrs[\"weighted\"][0.001][x]])\n",
    "        if corr > 0.25 or corr < -0.25:\n",
    "            print(\"{}: {}\".format(x, corr))"
   ]
  },
  {
   "cell_type": "code",
   "execution_count": 56,
   "metadata": {},
   "outputs": [
    {
     "name": "stdout",
     "output_type": "stream",
     "text": [
      "log_prod_of_spec_over_margin_fft: 0.2744487544309763\n",
      "log_spec_init_main_fft: 0.2681841680753995\n",
      "log_spec_orig_main_fft: 0.26834792762277887\n",
      "log_sum_of_spec_over_margin_fft: 0.2843334469795582\n",
      "spec_init: 0.2672438178370279\n",
      "spec_orig: 0.26708923548454666\n",
      "log_prod_of_spec_over_exponential_margin_fft: 0.2857549376437252\n",
      "log_spec_init_main_exponential_margin_fft: 0.2809160707183078\n",
      "log_spec_orig_main_exponential_margin_fft: 0.2817057120848158\n",
      "log_sum_of_spec_over_exponential_margin_fft: 0.29671189606025145\n",
      "spec_init_exponential_margin: 0.2794718608450742\n",
      "spec_orig_exponential_margin: 0.28086627275488557\n",
      "log_prod_of_spec_over_normalized_exponential_margin_fft: 0.2857549376437252\n",
      "log_spec_init_main_normalized_exponential_margin_fft: 0.2809160707183078\n",
      "log_spec_orig_main_normalized_exponential_margin_fft: 0.2817057120848158\n",
      "log_sum_of_spec_over_normalized_exponential_margin_fft: 0.2925544160665981\n",
      "spec_init_normalized_exponential_margin: 0.2794718608450742\n",
      "spec_orig_normalized_exponential_margin: 0.28086627275488557\n",
      "log_prod_of_spec_over_shifted_margin_fft: 0.2841134860279372\n",
      "log_spec_init_main_shifted_margin_fft: 0.2785941244806256\n",
      "log_spec_orig_main_shifted_margin_fft: 0.2799981614645493\n",
      "log_sum_of_spec_over_shifted_margin_fft: 0.2935636736737003\n",
      "spec_init_shifted_margin: 0.2775776402412056\n",
      "spec_orig_shifted_margin: 0.27938072042645595\n",
      "pacbayes_mag_init: 0.29609757922293484\n",
      "pacbayes_mag_init_full: 0.2958692737530916\n",
      "pacbayes_mag_init_main: 0.29609757922293484\n",
      "pacbayes_mag_orig: 0.26086521785523714\n",
      "pacbayes_mag_orig_full: 0.2632491561372522\n",
      "pacbayes_mag_orig_main: 0.26086521785523714\n",
      "path_norm: -0.2698906790233204\n",
      "log_sum_of_spec_fft: 0.2957794325314211\n",
      "log_prod_of_spec_fft: 0.28584229511288234\n",
      "dist_spec_init_fft: 0.4124209084975924\n"
     ]
    }
   ],
   "source": [
    "for a in [\"margin\", \"exponential_margin\", \"normalized_exponential_margin\", \"shifted_margin\", \n",
    "          \"pac_bayes\", \"vc_dim\", \"norms\", \"optimisation\"]:\n",
    "    \n",
    "    with open(\"./data.nosync/pre-comp-correlations/{}-best.pickle\".format(a), \"rb\") as f:\n",
    "        pair_corrs = pickle.load(f)\n",
    "        \n",
    "    overall_corrs = new_correlation2(pair_corrs)\n",
    "    \n",
    "    for x in overall_corrs[\"weighted\"][0.01]:\n",
    "        corr = np.mean([a[0] for a in overall_corrs[\"weighted\"][0.01][x]])\n",
    "        if corr > 0.25 or corr < -0.25:\n",
    "            print(\"{}: {}\".format(x, corr))"
   ]
  },
  {
   "cell_type": "code",
   "execution_count": 53,
   "metadata": {},
   "outputs": [
    {
     "name": "stdout",
     "output_type": "stream",
     "text": [
      "fro_over_spec_over_margin_fft: 0.32434126773611127\n",
      "path_norm_over_margin: -0.44212141816667344\n",
      "path_norm_over_exponential_margin: 0.40677916820496773\n",
      "path_norm_over_normalized_exponential_margin: 0.40677916820496773\n",
      "path_norm_over_shifted_margin: 0.41455692322068693\n",
      "pacbayes_init: -0.3350514400065865\n",
      "pacbayes_init_full: -0.31280856807175084\n",
      "pacbayes_init_main: -0.3350514400065865\n",
      "pacbayes_mag_flatness: -0.38504449920353473\n",
      "path_norm: -0.41899833634705347\n",
      "l2_dist: -0.34315259121065095\n",
      "fro_dist: -0.34315259121065095\n"
     ]
    }
   ],
   "source": [
    "for a in [\"margin\", \"exponential_margin\", \"normalized_exponential_margin\", \"shifted_margin\", \n",
    "          \"pac_bayes\", \"vc_dim\", \"norms\", \"optimisation\"]:\n",
    "    \n",
    "    with open(\"./data.nosync/pre-comp-correlations/{}-best.pickle\".format(a), \"rb\") as f:\n",
    "        pair_corrs = pickle.load(f)\n",
    "        \n",
    "    overall_corrs = new_correlation2(pair_corrs)\n",
    "    \n",
    "    for x in overall_corrs[\"weighted\"][0.1]:\n",
    "        corr = np.mean([a[0] for a in overall_corrs[\"weighted\"][0.1][x]])\n",
    "        if corr > 0.3 or corr < -0.3:\n",
    "            print(\"{}: {}\".format(x, corr))"
   ]
  },
  {
   "cell_type": "code",
   "execution_count": 54,
   "metadata": {},
   "outputs": [
    {
     "name": "stdout",
     "output_type": "stream",
     "text": [
      "path_norm_over_margin: -0.5498736779281601\n",
      "path_norm_over_exponential_margin: 0.48868565091034044\n",
      "path_norm_over_normalized_exponential_margin: 0.48868565091034044\n",
      "path_norm_over_shifted_margin: 0.45677542244073055\n",
      "path_norm: -0.5115729251427611\n",
      "l2_dist: -0.4197725209220181\n",
      "fro_dist: -0.4197725209220181\n",
      "accuracy/test: 0.43687115396096293\n",
      "cross_entropy_epoch_end/train: -0.5052397287801514\n",
      "cross_entropy_epoch_end/test: -0.5269393675679221\n",
      "sotl: -0.5139840897592217\n",
      "sotl-ema: -0.5139840897592217\n",
      "sotl-1: -0.5139840897592217\n",
      "sotl-2: -0.5139840897592217\n",
      "sotl-3: -0.5139840897592217\n",
      "sotl-5: -0.5139840897592217\n"
     ]
    }
   ],
   "source": [
    "for a in [\"margin\", \"exponential_margin\", \"normalized_exponential_margin\", \"shifted_margin\", \n",
    "          \"pac_bayes\", \"vc_dim\", \"norms\", \"optimisation\"]:\n",
    "    \n",
    "    with open(\"./data.nosync/pre-comp-correlations/{}-best.pickle\".format(a), \"rb\") as f:\n",
    "        pair_corrs = pickle.load(f)\n",
    "        \n",
    "    overall_corrs = new_correlation2(pair_corrs)\n",
    "    \n",
    "    for x in overall_corrs[\"weighted\"][1]:\n",
    "        corr = np.mean([a[0] for a in overall_corrs[\"weighted\"][1][x]])\n",
    "        if corr > 0.4 or corr < -0.4:\n",
    "            print(\"{}: {}\".format(x, corr))"
   ]
  },
  {
   "cell_type": "code",
   "execution_count": 51,
   "metadata": {},
   "outputs": [
    {
     "name": "stdout",
     "output_type": "stream",
     "text": [
      "path_norm_over_exponential_margin: 0.5859548685633952\n",
      "path_norm_over_normalized_exponential_margin: 0.5859548685633952\n",
      "path_norm_over_shifted_margin: 0.5807441962277956\n",
      "path_norm: -0.560582986161712\n",
      "accuracy/test: 0.5828660598041647\n",
      "cross_entropy_epoch_end/test: -0.5967506464457738\n"
     ]
    }
   ],
   "source": [
    "for a in [\"margin\", \"exponential_margin\", \"normalized_exponential_margin\", \"shifted_margin\", \n",
    "          \"pac_bayes\", \"vc_dim\", \"norms\", \"optimisation\"]:\n",
    "    \n",
    "    with open(\"./data.nosync/pre-comp-correlations/{}-best.pickle\".format(a), \"rb\") as f:\n",
    "        pair_corrs = pickle.load(f)\n",
    "        \n",
    "    overall_corrs = new_correlation2(pair_corrs)\n",
    "    \n",
    "    for x in overall_corrs[\"weighted\"][5]:\n",
    "        corr = np.mean([a[0] for a in overall_corrs[\"weighted\"][5][x]])\n",
    "        if corr > 0.5 or corr < -0.5:\n",
    "            print(\"{}: {}\".format(x, corr))"
   ]
  },
  {
   "cell_type": "code",
   "execution_count": 52,
   "metadata": {},
   "outputs": [
    {
     "name": "stdout",
     "output_type": "stream",
     "text": [
      "path_norm_over_margin: -0.5029382374973821\n",
      "path_norm: -0.5483767405925426\n",
      "accuracy/test: 0.6669876305738258\n",
      "cross_entropy_epoch_end/test: -0.5785352102793938\n"
     ]
    }
   ],
   "source": [
    "for a in [\"margin\", \"exponential_margin\", \"normalized_exponential_margin\", \"shifted_margin\", \n",
    "          \"pac_bayes\", \"vc_dim\", \"norms\", \"optimisation\"]:\n",
    "    \n",
    "    with open(\"./data.nosync/pre-comp-correlations/{}-best.pickle\".format(a), \"rb\") as f:\n",
    "        pair_corrs = pickle.load(f)\n",
    "        \n",
    "    overall_corrs = new_correlation2(pair_corrs)\n",
    "    \n",
    "    for x in overall_corrs[\"weighted\"][10]:\n",
    "        corr = np.mean([a[0] for a in overall_corrs[\"weighted\"][10][x]])\n",
    "        if corr > 0.5 or corr < -0.5:\n",
    "            print(\"{}: {}\".format(x, corr))"
   ]
  },
  {
   "cell_type": "code",
   "execution_count": 18,
   "metadata": {},
   "outputs": [],
   "source": [
    "with open(\"./data.nosync/pre-comp-pairs/margin-best.pickle\", \"rb\") as f:\n",
    "    pairs = pickle.load(f)"
   ]
  },
  {
   "cell_type": "code",
   "execution_count": 26,
   "metadata": {},
   "outputs": [],
   "source": [
    "a = []\n",
    "\n",
    "for hp_pair, run_pair_dict in pairs.items():\n",
    "    if hp_pair[0][1] != ExperimentType.NO_DROPOUT or hp_pair[1][1] != ExperimentType.NO_DROPOUT:\n",
    "        continue\n",
    "    \n",
    "    for seed_pair, run_pair in run_pair_dict.items():\n",
    "        a.append(run_pair.weight * run_pair.errors[0.001][\"log_spec_init_main_fft\"])"
   ]
  },
  {
   "cell_type": "code",
   "execution_count": 27,
   "metadata": {},
   "outputs": [
    {
     "data": {
      "text/plain": [
       "0.2302234848509048"
      ]
     },
     "execution_count": 27,
     "metadata": {},
     "output_type": "execute_result"
    }
   ],
   "source": [
    "sum(a)/sum([abs(x) for x in a])"
   ]
  },
  {
   "cell_type": "code",
   "execution_count": 37,
   "metadata": {},
   "outputs": [],
   "source": [
    "with open(\"./data.nosync/runs/no_dropout.pickle\", \"rb\") as f:\n",
    "    runs = pickle.load(f)"
   ]
  },
  {
   "cell_type": "code",
   "execution_count": 45,
   "metadata": {},
   "outputs": [],
   "source": [
    "meas = []\n",
    "acc = []\n",
    "\n",
    "for hp, l in runs.items():\n",
    "    for r in l:\n",
    "        meas.append(r.measures[1][\"accuracy/test\"])\n",
    "        acc.append(r.best_test_acc)"
   ]
  },
  {
   "cell_type": "code",
   "execution_count": 46,
   "metadata": {},
   "outputs": [
    {
     "data": {
      "text/plain": [
       "384"
      ]
     },
     "execution_count": 46,
     "metadata": {},
     "output_type": "execute_result"
    }
   ],
   "source": [
    "len(meas)"
   ]
  },
  {
   "cell_type": "code",
   "execution_count": 47,
   "metadata": {},
   "outputs": [
    {
     "data": {
      "text/plain": [
       "384"
      ]
     },
     "execution_count": 47,
     "metadata": {},
     "output_type": "execute_result"
    }
   ],
   "source": [
    "len(acc)"
   ]
  },
  {
   "cell_type": "code",
   "execution_count": 48,
   "metadata": {},
   "outputs": [],
   "source": [
    "a = []\n",
    "for s in acc:\n",
    "    if s < 0.5:\n",
    "        a.append(s)"
   ]
  },
  {
   "cell_type": "code",
   "execution_count": 49,
   "metadata": {},
   "outputs": [
    {
     "data": {
      "text/plain": [
       "1"
      ]
     },
     "execution_count": 49,
     "metadata": {},
     "output_type": "execute_result"
    }
   ],
   "source": [
    "len(a)"
   ]
  },
  {
   "cell_type": "code",
   "execution_count": 50,
   "metadata": {},
   "outputs": [],
   "source": [
    "from scipy import stats"
   ]
  },
  {
   "cell_type": "code",
   "execution_count": 51,
   "metadata": {},
   "outputs": [
    {
     "data": {
      "text/plain": [
       "KendalltauResult(correlation=0.504602964871495, pvalue=2.8607114605570436e-49)"
      ]
     },
     "execution_count": 51,
     "metadata": {},
     "output_type": "execute_result"
    }
   ],
   "source": [
    "stats.kendalltau(meas, acc)"
   ]
  },
  {
   "cell_type": "code",
   "execution_count": 57,
   "metadata": {},
   "outputs": [],
   "source": [
    "with open(\"./data.nosync/runs/base.pickle\", \"rb\") as f:\n",
    "    runs = pickle.load(f)"
   ]
  },
  {
   "cell_type": "code",
   "execution_count": null,
   "metadata": {},
   "outputs": [],
   "source": [
    "e = []\n",
    "i = []\n",
    "m = []\n",
    "t = []\n",
    "\n",
    "for r in runs:\n",
    "    e.append(r.measures[5][\"exponential_margin\"])\n",
    "    i.append(r.measures[5][\"inverse_margin\"])\n",
    "    m.append(r.measures[5][\"inverse_margin\"])"
   ]
  }
 ],
 "metadata": {
  "kernelspec": {
   "display_name": "Python 3 (ipykernel)",
   "language": "python",
   "name": "python3"
  },
  "language_info": {
   "codemirror_mode": {
    "name": "ipython",
    "version": 3
   },
   "file_extension": ".py",
   "mimetype": "text/x-python",
   "name": "python",
   "nbconvert_exporter": "python",
   "pygments_lexer": "ipython3",
   "version": "3.8.8"
  }
 },
 "nbformat": 4,
 "nbformat_minor": 1
}